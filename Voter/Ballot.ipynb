{
 "cells": [
  {
   "cell_type": "code",
   "execution_count": 1,
   "metadata": {
    "collapsed": true
   },
   "outputs": [],
   "source": [
    "class Ballot:\n",
    "    def __init__(self, proposals):\n",
    "        self.proposals = {} #key = 이름, value = 득표수\n",
    "        for name in proposals:\n",
    "            self.proposals[name]=0\n",
    "        self.voter = {} #kye = address, value = 0 이면 투표 O, 1 이면 투표 X\n",
    "        \n",
    "    def giveRightToVote(self, voter):\n",
    "        if voter not in self.voter:\n",
    "            self.voter[voter] = 1\n",
    "        \n",
    "    def vote(self, proposal, voter):\n",
    "        if self.voter[voter]:\n",
    "            self.proposals[proposal]+=1\n",
    "            self.voter[voter] = 0\n",
    "            \n",
    "    def result(self):\n",
    "        for k in self.proposals.keys():\n",
    "            print(k + \": %d\" % self.proposals[k])\n",
    "        print()\n",
    "        "
   ]
  },
  {
   "cell_type": "code",
   "execution_count": 2,
   "metadata": {
    "collapsed": false
   },
   "outputs": [
    {
     "name": "stdout",
     "output_type": "stream",
     "text": [
      "abc: 1\n",
      "abd: 0\n",
      "abe: 0\n",
      "()\n",
      "abc: 1\n",
      "abd: 0\n",
      "abe: 0\n",
      "()\n",
      "abc: 1\n",
      "abd: 1\n",
      "abe: 0\n",
      "()\n",
      "abc: 1\n",
      "abd: 1\n",
      "abe: 1\n",
      "()\n",
      "abc: 1\n",
      "abd: 1\n",
      "abe: 2\n",
      "()\n"
     ]
    }
   ],
   "source": [
    "sys = Ballot([\"abc\", \"abd\", \"abe\"])\n",
    "sys.giveRightToVote(\"bc\")\n",
    "sys.giveRightToVote(\"bd\")\n",
    "sys.giveRightToVote(\"be\")\n",
    "sys.giveRightToVote(\"bee\")\n",
    "sys.vote(\"abc\", \"bc\")\n",
    "sys.result()\n",
    "sys.vote(\"abd\", \"bc\")\n",
    "sys.result()\n",
    "sys.vote(\"abd\", \"bd\")\n",
    "sys.result()\n",
    "sys.vote(\"abe\", \"be\")\n",
    "sys.result()\n",
    "sys.vote(\"abe\", \"bee\")\n",
    "sys.result()"
   ]
  },
  {
   "cell_type": "code",
   "execution_count": null,
   "metadata": {
    "collapsed": true
   },
   "outputs": [],
   "source": []
  }
 ],
 "metadata": {
  "kernelspec": {
   "display_name": "Python 2",
   "language": "python",
   "name": "python2"
  },
  "language_info": {
   "codemirror_mode": {
    "name": "ipython",
    "version": 2
   },
   "file_extension": ".py",
   "mimetype": "text/x-python",
   "name": "python",
   "nbconvert_exporter": "python",
   "pygments_lexer": "ipython2",
   "version": "2.7.12"
  }
 },
 "nbformat": 4,
 "nbformat_minor": 1
}
